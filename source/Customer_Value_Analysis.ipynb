{
 "cells": [
  {
   "cell_type": "code",
   "execution_count": 1,
   "id": "fe3e74f7",
   "metadata": {},
   "outputs": [],
   "source": [
    "# Importing the required libraries\n",
    "import pandas as pd\n",
    "import os\n",
    "import numpy as np"
   ]
  },
  {
   "cell_type": "code",
   "execution_count": 2,
   "id": "fd5559d4",
   "metadata": {},
   "outputs": [],
   "source": [
    "# Importing the dataset\n",
    "df = pd.read_csv('https://raw.githubusercontent.com/Athena75/IBM-Customer-Value-Dashboarding/main/data/Customer-Value-Analysis.csv', index_col = 'Customer')"
   ]
  },
  {
   "cell_type": "code",
   "execution_count": 3,
   "id": "0e7532bc",
   "metadata": {},
   "outputs": [
    {
     "name": "stdout",
     "output_type": "stream",
     "text": [
      "<class 'pandas.core.frame.DataFrame'>\n",
      "Index: 9134 entries, BU79786 to Y167826\n",
      "Data columns (total 23 columns):\n",
      " #   Column                         Non-Null Count  Dtype  \n",
      "---  ------                         --------------  -----  \n",
      " 0   State                          9134 non-null   object \n",
      " 1   Customer Lifetime Value        9134 non-null   float64\n",
      " 2   Response                       9134 non-null   object \n",
      " 3   Coverage                       9134 non-null   object \n",
      " 4   Education                      9134 non-null   object \n",
      " 5   Effective To Date              9134 non-null   object \n",
      " 6   EmploymentStatus               9134 non-null   object \n",
      " 7   Gender                         9134 non-null   object \n",
      " 8   Income                         9134 non-null   int64  \n",
      " 9   Location Code                  9134 non-null   object \n",
      " 10  Marital Status                 9134 non-null   object \n",
      " 11  Monthly Premium Auto           9134 non-null   int64  \n",
      " 12  Months Since Last Claim        9134 non-null   int64  \n",
      " 13  Months Since Policy Inception  9134 non-null   int64  \n",
      " 14  Number of Open Complaints      9134 non-null   int64  \n",
      " 15  Number of Policies             9134 non-null   int64  \n",
      " 16  Policy Type                    9134 non-null   object \n",
      " 17  Policy                         9134 non-null   object \n",
      " 18  Renew Offer Type               9134 non-null   object \n",
      " 19  Sales Channel                  9134 non-null   object \n",
      " 20  Total Claim Amount             9134 non-null   float64\n",
      " 21  Vehicle Class                  9134 non-null   object \n",
      " 22  Vehicle Size                   9134 non-null   object \n",
      "dtypes: float64(2), int64(6), object(15)\n",
      "memory usage: 1.7+ MB\n"
     ]
    }
   ],
   "source": [
    "df.info()"
   ]
  },
  {
   "cell_type": "code",
   "execution_count": 4,
   "id": "05f28526",
   "metadata": {},
   "outputs": [
    {
     "data": {
      "text/plain": [
       "State                            0\n",
       "Customer Lifetime Value          0\n",
       "Response                         0\n",
       "Coverage                         0\n",
       "Education                        0\n",
       "Effective To Date                0\n",
       "EmploymentStatus                 0\n",
       "Gender                           0\n",
       "Income                           0\n",
       "Location Code                    0\n",
       "Marital Status                   0\n",
       "Monthly Premium Auto             0\n",
       "Months Since Last Claim          0\n",
       "Months Since Policy Inception    0\n",
       "Number of Open Complaints        0\n",
       "Number of Policies               0\n",
       "Policy Type                      0\n",
       "Policy                           0\n",
       "Renew Offer Type                 0\n",
       "Sales Channel                    0\n",
       "Total Claim Amount               0\n",
       "Vehicle Class                    0\n",
       "Vehicle Size                     0\n",
       "dtype: int64"
      ]
     },
     "execution_count": 4,
     "metadata": {},
     "output_type": "execute_result"
    }
   ],
   "source": [
    "# Checking the dataset for any missing values\n",
    "df.isnull().sum()"
   ]
  },
  {
   "cell_type": "code",
   "execution_count": 5,
   "id": "19a83649",
   "metadata": {},
   "outputs": [
    {
     "data": {
      "text/plain": [
       "<AxesSubplot:>"
      ]
     },
     "execution_count": 5,
     "metadata": {},
     "output_type": "execute_result"
    },
    {
     "data": {
      "image/png": "[encoded data removed]",
      "text/plain": [
       "<Figure size 432x288 with 1 Axes>"
      ]
     },
     "metadata": {
      "needs_background": "light"
     },
     "output_type": "display_data"
    }
   ],
   "source": [
    "# Checking the distribution of the target variable\n",
    "df['Response'].value_counts().plot(kind = 'bar')"
   ]
  },
  {
   "cell_type": "code",
   "execution_count": 6,
   "id": "081161f3",
   "metadata": {},
   "outputs": [],
   "source": [
    "# Splitting the target, categorical and numerical variables\n",
    "X = df.drop(['Response'], axis = 1)\n",
    "Y = df.Response.apply(lambda X : 0 if X == 'No' else 1)\n",
    "\n",
    "catgs = [var for var, var_type in X.dtypes.items() if var_type == 'object']\n",
    "numls = [var for var in X.columns if var not in catgs]"
   ]
  },
  {
   "cell_type": "code",
   "execution_count": 7,
   "id": "b51945d7",
   "metadata": {},
   "outputs": [],
   "source": [
    "# Creating a Custom Pipeline\n",
    "from sklearn.base import BaseEstimator, TransformerMixin\n",
    "from sklearn.preprocessing import OneHotEncoder, StandardScaler\n",
    "from sklearn.impute import KNNImputer\n",
    "from sklearn.pipeline import FeatureUnion, Pipeline \n",
    "from sklearn.compose import ColumnTransformer\n",
    "\n",
    "#Custom Transformer that extracts columns passed as argument to its constructor \n",
    "class FeatureSelector(BaseEstimator, TransformerMixin ):\n",
    "    #Class Constructor \n",
    "    def __init__(self, get_feature_names):\n",
    "        self.get_feature_names = get_feature_names \n",
    "           \n",
    "    def fit(self, X, Y = None):\n",
    "        return self \n",
    "    \n",
    "    #Method that describes what we need this transformer to do\n",
    "    def transform(self, X, Y = None):\n",
    "        return X[self.get_feature_names].values \n",
    "\n",
    "\n",
    "#Defining the steps in the categorical pipeline \n",
    "catg_pipeline = Pipeline([('catg_selector', FeatureSelector(catgs)),\n",
    "                          ('one_hot_encoder', OneHotEncoder(sparse = False) ) ] )\n",
    "    \n",
    "#Defining the steps in the numerical pipeline     \n",
    "numl_pipeline = Pipeline([\n",
    "        ('num_selector', FeatureSelector(numls)),\n",
    "        ('std_scaler', StandardScaler()),\n",
    "    ])\n",
    "\n",
    "\n",
    "#Combining numerical and categorical piepline into one full big pipeline horizontally \n",
    "#using FeatureUnion\n",
    "full_pipeline = FeatureUnion(transformer_list = [('numl_pipeline', numl_pipeline),\n",
    "                                                ('catg_pipeline', catg_pipeline)])"
   ]
  },
  {
   "cell_type": "code",
   "execution_count": 8,
   "id": "f3b7644b",
   "metadata": {},
   "outputs": [],
   "source": [
    "# Splitting and apply data transformation\n",
    "from sklearn.model_selection import train_test_split, cross_validate\n",
    "X_train,  X_test, Y_train, Y_test = train_test_split(X,Y, test_size = 0.2, random_state = 123)\n",
    "#fit and transform the custom transformer in train\n",
    "X_train_processed = full_pipeline.fit_transform(X_train)\n",
    "# transform the test with the trainef tansformer\n",
    "X_test_processed = full_pipeline.transform(X_test)"
   ]
  },
  {
   "cell_type": "code",
   "execution_count": 9,
   "id": "6ed28c42",
   "metadata": {},
   "outputs": [
    {
     "name": "stdout",
     "output_type": "stream",
     "text": [
      "transformed training dataset shape (7307, 122)\n",
      "transformed training dataset shape (1827, 122)\n"
     ]
    }
   ],
   "source": [
    "print('transformed training dataset shape', X_train_processed.shape)\n",
    "print('transformed training dataset shape', X_test_processed.shape)"
   ]
  },
  {
   "cell_type": "code",
   "execution_count": 10,
   "id": "ff49f17c",
   "metadata": {},
   "outputs": [
    {
     "data": {
      "text/plain": [
       "['./model/transformer.joblib']"
      ]
     },
     "execution_count": 10,
     "metadata": {},
     "output_type": "execute_result"
    }
   ],
   "source": [
    "from joblib import dump, load\n",
    "dump(full_pipeline, f'./model/transformer.joblib')"
   ]
  },
  {
   "cell_type": "code",
   "execution_count": 11,
   "id": "dd5516fc",
   "metadata": {},
   "outputs": [],
   "source": [
    "import pickle\n",
    "catg_step = full_pipeline.get_params()['transformer_list'][-1][-1]\n",
    "ohe = catg_step.steps[-1][-1]\n",
    "ohe_categories =dict(zip(catgs, ohe.categories_))\n",
    "output_path = f'./model/ohe_categories.pkl'\n",
    "with open(output_path, 'wb') as output:\n",
    "        pickle.dump(ohe_categories, output, pickle.HIGHEST_PROTOCOL)"
   ]
  },
  {
   "cell_type": "code",
   "execution_count": 12,
   "id": "c2d1afbe",
   "metadata": {},
   "outputs": [
    {
     "name": "stdout",
     "output_type": "stream",
     "text": [
      "Wall time: 0 ns\n"
     ]
    }
   ],
   "source": [
    "# Model Selection\n",
    "%time\n",
    "from sklearn.metrics import log_loss\n",
    "from joblib import dump, load\n",
    "from sklearn.model_selection import cross_val_predict\n",
    "from sklearn.neighbors import KNeighborsClassifier\n",
    "from sklearn.ensemble import RandomForestClassifier, GradientBoostingClassifier\n",
    "#from sklearn.linear_model import SGDClassifier\n",
    "\n",
    "names = [\"Nearest Neighbors\", \"XGBoost\", \"Random Forest\"]\n",
    "\n",
    "classifiers = [\n",
    "    KNeighborsClassifier(3),\n",
    "    GradientBoostingClassifier(),\n",
    "    RandomForestClassifier()]\n",
    "\n",
    "scores = {}\n",
    "\n",
    "# iterate over classifiers\n",
    "for name, clf in zip(names, classifiers):\n",
    "    # Cross val prediction    \n",
    "    cv_preds = cross_val_predict(clf, X_train_processed, Y_train, method='predict_proba')\n",
    "    cv_score = log_loss(Y_train, cv_preds)\n",
    "    \n",
    "    # holdout data \n",
    "    clf.fit(X_train_processed, Y_train)\n",
    "    hd_preds = clf.predict_proba(X_test_processed)\n",
    "    hd_score = log_loss(Y_test, hd_preds)\n",
    "    \n",
    "    # append the scores\n",
    "    scores[name] = [cv_score, hd_score]\n",
    "    #store the model\n",
    "    dump(clf, f'./model/{name}.joblib') "
   ]
  },
  {
   "cell_type": "code",
   "execution_count": 13,
   "id": "521b240d",
   "metadata": {},
   "outputs": [
    {
     "name": "stdout",
     "output_type": "stream",
     "text": [
      "Nearest Neighbors => CV_AUC : 0.6180761729528248, Holdout_AUC:0.8228086510627445\n",
      "XGBoost => CV_AUC : 0.26896754671270173, Holdout_AUC:0.2453750337029017\n",
      "Random Forest => CV_AUC : 0.10136498084015419, Holdout_AUC:0.076161407715739\n"
     ]
    }
   ],
   "source": [
    "for model, perf in scores.items():\n",
    "    print(f'{model} => CV_AUC : {perf[0]}, Holdout_AUC:{perf[1]}')"
   ]
  },
  {
   "cell_type": "code",
   "execution_count": 14,
   "id": "f4297dbe",
   "metadata": {},
   "outputs": [
    {
     "name": "stderr",
     "output_type": "stream",
     "text": [
      "UsageError: Line magic function `%%time` not found.\n"
     ]
    }
   ],
   "source": [
    "# Model Tuning\n",
    "%%time\n",
    "from sklearn.model_selection import GridSearchCV\n",
    "from sklearn.metrics import make_scorer\n",
    "\n",
    "param_grid = [\n",
    "    {'n_estimators': [100, 200]},\n",
    "    {'n_estimators': [50, 100, 200], 'max_features': ['log2']},\n",
    "    {'bootstrap': [False], 'n_estimators': [150, 300], 'max_features': [2, 4]},\n",
    "]\n",
    "# about how to use the scorer strategy for the grid search:\n",
    "# https://scikit-learn.org/stable/modules/model_evaluation.html#scoring\n",
    "scorer = make_scorer(log_loss)\n",
    "\n",
    "RF = RandomForestClassifier()\n",
    "grid_search = GridSearchCV(RF, param_grid, cv = 5,\n",
    "                           scoring = scorer,\n",
    "                           return_train_score = True)\n",
    "\n",
    "grid_search.fit(X_train_processed, Y_train)"
   ]
  },
  {
   "cell_type": "code",
   "execution_count": null,
   "id": "4b0b07f8",
   "metadata": {},
   "outputs": [],
   "source": [
    "grid_search.best_params_"
   ]
  },
  {
   "cell_type": "code",
   "execution_count": null,
   "id": "8b9698ea",
   "metadata": {},
   "outputs": [],
   "source": [
    "# Cross Validation\n",
    "sk_best = grid_search.best_estimator_\n",
    "\n",
    "# Cross val prediction    \n",
    "cv_preds = cross_val_predict(sk_best, \n",
    "                             X_train_processed, Y_train, \n",
    "                             method = 'predict_proba')\n",
    "best_cv_score = log_loss(Y_train, cv_preds)\n",
    "\n",
    "# holdout data \n",
    "sk_best.fit(X_train_processed, Y_train)\n",
    "hd_preds = sk_best.predict_proba(X_test_processed)\n",
    "best_hd_score = log_loss(Y_test, hd_preds)\n",
    "\n",
    "\n",
    "#store the model\n",
    "dump(sk_best,f'./model/best.joblib') "
   ]
  },
  {
   "cell_type": "code",
   "execution_count": null,
   "id": "f631f75d",
   "metadata": {},
   "outputs": [],
   "source": [
    "print(f'best => CV_AUC : {best_cv_score}, Holdout_AUC:{best_hd_score}')"
   ]
  },
  {
   "cell_type": "code",
   "execution_count": null,
   "id": "5d4ce5ed",
   "metadata": {},
   "outputs": [],
   "source": [
    "# New Prediction\n",
    "# example of new enty\n",
    "new_entry = X_test.loc[X_test.index[-1]].to_frame()\n",
    "# pass it throug the pipeline\n",
    "new_entry_processed = full_pipeline.transform(new_entry.T)\n",
    "# make prediction\n",
    "sk_best.predict_proba(new_entry_processed)"
   ]
  },
  {
   "cell_type": "code",
   "execution_count": null,
   "id": "324ea41a",
   "metadata": {},
   "outputs": [],
   "source": [
    "# take the argmax\n",
    "sk_best.predict(new_entry_processed)"
   ]
  },
  {
   "cell_type": "code",
   "execution_count": null,
   "id": "b0e115d1",
   "metadata": {},
   "outputs": [],
   "source": [
    "# Classification Performances\n",
    "from sklearn.metrics import precision_score, recall_score, accuracy_score, f1_score\n",
    "\n",
    "# Cross val prediction    \n",
    "cv_one_preds = cross_val_predict(sk_best, \n",
    "                             X_train_processed, Y_train, \n",
    "                             method='predict')"
   ]
  },
  {
   "cell_type": "code",
   "execution_count": null,
   "id": "b3326fa0",
   "metadata": {},
   "outputs": [],
   "source": [
    "perf = {'accuracy' : accuracy_score(Y_train, cv_one_preds),\n",
    "       'precision': precision_score(Y_train, cv_one_preds),\n",
    "       'recall' : recall_score(Y_train, cv_one_preds),\n",
    "       'f1_score': f1_score(Y_train, cv_one_preds)}\n",
    "\n",
    "# persist the result\n",
    "output_path = f'./model/sk_best_performances.pkl'\n",
    "with open(output_path, 'wb') as output:\n",
    "        pickle.dump(perf, output, pickle.HIGHEST_PROTOCOL)"
   ]
  },
  {
   "cell_type": "code",
   "execution_count": null,
   "id": "59ede1e3",
   "metadata": {},
   "outputs": [],
   "source": []
  }
 ],
 "metadata": {
  "kernelspec": {
   "display_name": "Python 3",
   "language": "python",
   "name": "python3"
  },
  "language_info": {
   "codemirror_mode": {
    "name": "ipython",
    "version": 3
   },
   "file_extension": ".py",
   "mimetype": "text/x-python",
   "name": "python",
   "nbconvert_exporter": "python",
   "pygments_lexer": "ipython3",
   "version": "3.8.8"
  }
 },
 "nbformat": 4,
 "nbformat_minor": 5
}
